{
 "cells": [
  {
   "cell_type": "markdown",
   "metadata": {},
   "source": [
    "Install Necessary Nuget packages"
   ]
  },
  {
   "cell_type": "code",
   "execution_count": null,
   "metadata": {
    "dotnet_interactive": {
     "language": "csharp"
    },
    "vscode": {
     "languageId": "dotnet-interactive.csharp"
    }
   },
   "outputs": [
    {
     "data": {
      "text/html": [
       "<div><div></div><div></div><div><strong>Installed Packages</strong><ul><li><span>Microsoft.Extensions.DependencyInjection, 6.0.0</span></li><li><span>Microsoft.Extensions.Hosting, 6.0.1</span></li><li><span>Microsoft.Orleans.Core, 3.6.5</span></li><li><span>Microsoft.Orleans.OrleansRuntime, 3.6.5</span></li><li><span>Microsoft.Orleans.Server, 3.6.5</span></li></ul></div></div>"
      ]
     },
     "metadata": {},
     "output_type": "display_data"
    }
   ],
   "source": [
    "#region install Nuget\n",
    "//Essential libs for running .NET 6 Generic Host\n",
    "#r \"nuget: Microsoft.Extensions.Hosting\"\n",
    "#r \"nuget: Microsoft.Extensions.DependencyInjection\"\n",
    "\n",
    "//Orleans essential dependencies\n",
    "#r \"nuget: Microsoft.Orleans.Core\"\n",
    "#r \"nuget: Microsoft.Orleans.OrleansRuntime\"\n",
    "//Orleans silo server runtime essentials\n",
    "#r \"nuget: Microsoft.Orleans.Server\"\n",
    "#endregion\n"
   ]
  },
  {
   "cell_type": "markdown",
   "metadata": {},
   "source": [
    "Load some namespaces for .NET Generic Host & Orleans extension method(s)."
   ]
  },
  {
   "cell_type": "code",
   "execution_count": null,
   "metadata": {
    "dotnet_interactive": {
     "language": "csharp"
    },
    "vscode": {
     "languageId": "dotnet-interactive.csharp"
    }
   },
   "outputs": [],
   "source": [
    "using Microsoft.Extensions.Hosting;\n",
    "using Orleans;\n",
    "using Orleans.Runtime;\n",
    "using Orleans.Hosting;"
   ]
  },
  {
   "cell_type": "markdown",
   "metadata": {},
   "source": [
    "Manually compile Orleans Grain class library project:"
   ]
  },
  {
   "cell_type": "code",
   "execution_count": null,
   "metadata": {
    "dotnet_interactive": {
     "language": "csharp"
    },
    "vscode": {
     "languageId": "dotnet-interactive.csharp"
    }
   },
   "outputs": [
    {
     "name": "stdout",
     "output_type": "stream",
     "text": [
      "\n",
      "Build succeeded.\n",
      "    0 Warning(s)\n",
      "    0 Error(s)\n",
      "\n",
      "Time Elapsed 00:00:24.72\n"
     ]
    }
   ],
   "source": [
    "#!pwsh\n",
    "dotnet build ../src/Grains/RpcDemo.Grains.Greeting/RpcDemo.Grains.Greeting.csproj --nologo --verbosity quiet"
   ]
  },
  {
   "cell_type": "markdown",
   "metadata": {},
   "source": [
    "Load builded assembly files:"
   ]
  },
  {
   "cell_type": "code",
   "execution_count": null,
   "metadata": {
    "dotnet_interactive": {
     "language": "csharp"
    },
    "vscode": {
     "languageId": "dotnet-interactive.csharp"
    }
   },
   "outputs": [],
   "source": [
    "#r \"../src/Shared/RpcDemo.Interfaces.Hello/bin/Debug/netstandard2.0/RpcDemo.Interfaces.Hello.dll\"\n",
    "#r \"../src/Grains/RpcDemo.Grains.Greeting/bin/Debug/net6.0/RpcDemo.Grains.Greeting.dll\""
   ]
  },
  {
   "cell_type": "markdown",
   "metadata": {},
   "source": [
    "Craft Orleans Server side builder code:"
   ]
  },
  {
   "cell_type": "code",
   "execution_count": null,
   "metadata": {
    "dotnet_interactive": {
     "language": "csharp"
    },
    "vscode": {
     "languageId": "dotnet-interactive.csharp"
    }
   },
   "outputs": [],
   "source": [
    "using RpcDemo.Interfaces.Hello;\n",
    "using RpcDemo.Grains.Greeting;\n",
    "var hostBuilder = Host.CreateDefaultBuilder()\n",
    "    .UseOrleans(builder =>\n",
    "    {\n",
    "        builder.UseLocalhostClustering();\n",
    "        builder.ConfigureApplicationParts(parts => {\n",
    "              parts.AddApplicationPart(typeof(IHelloGrain).Assembly).WithReferences();\n",
    "              parts.AddApplicationPart(typeof(HelloGrain).Assembly).WithReferences();\n",
    "            });\n",
    "    });"
   ]
  },
  {
   "cell_type": "markdown",
   "metadata": {},
   "source": [
    "Create .NET Generic Host by calling `Build()`, and then start it:"
   ]
  },
  {
   "cell_type": "code",
   "execution_count": null,
   "metadata": {
    "dotnet_interactive": {
     "language": "csharp"
    },
    "vscode": {
     "languageId": "dotnet-interactive.csharp"
    }
   },
   "outputs": [
    {
     "name": "stdout",
     "output_type": "stream",
     "text": [
      "\u001b[40m\u001b[32minfo\u001b[39m\u001b[22m\u001b[49m: Orleans.Runtime.Silo[100404]\n",
      "      Silo starting with GC settings: ServerGC=True GCLatencyMode=Interactive\n",
      "\u001b[40m\u001b[32minfo\u001b[39m\u001b[22m\u001b[49m: Orleans.Runtime.Silo[100403]\n",
      "      -------------- Initializing silo on host vm-ubuntu2204 MachineName vm-ubuntu2204 at 127.0.0.1:11111, gen 401534855 --------------\n",
      "\u001b[40m\u001b[32minfo\u001b[39m\u001b[22m\u001b[49m: Orleans.Runtime.Silo[100415]\n",
      "      Starting silo Silo_b67ab\n",
      "\u001b[40m\u001b[1m\u001b[33mwarn\u001b[39m\u001b[22m\u001b[49m: Orleans.Runtime.NoOpHostEnvironmentStatistics[100708]\n",
      "      No implementation of IHostEnvironmentStatistics was found. Load shedding will not work yet\n",
      "\u001b[40m\u001b[32minfo\u001b[39m\u001b[22m\u001b[49m: Orleans.Runtime.ConsistentRing.VirtualBucketsRingProvider[0]\n",
      "      Starting VirtualBucketsRingProvider on silo S127.0.0.1:11111:401534855/xB30C4E58.\n",
      "\u001b[40m\u001b[32minfo\u001b[39m\u001b[22m\u001b[49m: Orleans.Runtime.ConsistentRing.VirtualBucketsRingProvider[103003]\n",
      "      Added Server S127.0.0.1:11111:401534855/xB30C4E58. Current view: [S127.0.0.1:11111:401534855 -> <MultiRange: Size=x100000000, %Ring=100.000%>]\n",
      "\u001b[40m\u001b[32minfo\u001b[39m\u001b[22m\u001b[49m: Orleans.Runtime.ConsistentRing.VirtualBucketsRingProvider[103005]\n",
      "      -NotifyLocalRangeSubscribers about old <(0 0], Size=x100000000, %Ring=100.000%> new <MultiRange: Size=x100000000, %Ring=100.000%> increased? True\n",
      "\u001b[40m\u001b[32minfo\u001b[39m\u001b[22m\u001b[49m: Orleans.Runtime.Silo[100422]\n",
      "      -------------- Started silo S127.0.0.1:11111:401534855, ConsistentHashCode B30C4E58 --------------\n",
      "\u001b[40m\u001b[32minfo\u001b[39m\u001b[22m\u001b[49m: Orleans.Hosting.SiloHostedService[0]\n",
      "      Starting Orleans Silo.\n",
      "\u001b[40m\u001b[32minfo\u001b[39m\u001b[22m\u001b[49m: Orleans.Runtime.SiloLifecycleSubject[100453]\n",
      "      Stage First (-2147483648): Orleans.Runtime.SiloOptionsLogger\n",
      "\u001b[40m\u001b[32minfo\u001b[39m\u001b[22m\u001b[49m: Orleans.Runtime.SiloLifecycleSubject[100453]\n",
      "      Stage 1999: ConnectionManager, SiloConnectionListener, GatewayConnectionListener\n",
      "\u001b[40m\u001b[32minfo\u001b[39m\u001b[22m\u001b[49m: Orleans.Runtime.SiloLifecycleSubject[100453]\n",
      "      Stage RuntimeInitialize (2000): Orleans.Runtime.InsideRuntimeClient, SiloStatusListenerManager, ClusterMembershipService, SiloConnectionMaintainer, Orleans.Runtime.Silo\n",
      "\u001b[40m\u001b[32minfo\u001b[39m\u001b[22m\u001b[49m: Orleans.Runtime.SiloLifecycleSubject[100453]\n",
      "      Stage 2001: MembershipAgent\n",
      "\u001b[40m\u001b[32minfo\u001b[39m\u001b[22m\u001b[49m: Orleans.Runtime.SiloLifecycleSubject[100453]\n",
      "      Stage RuntimeServices (4000): Orleans.Runtime.Silo\n",
      "\u001b[40m\u001b[32minfo\u001b[39m\u001b[22m\u001b[49m: Orleans.Runtime.SiloLifecycleSubject[100453]\n",
      "      Stage RuntimeGrainServices (8000): MembershipTableManager, HostedClient, Orleans.Runtime.Silo\n",
      "\u001b[40m\u001b[32minfo\u001b[39m\u001b[22m\u001b[49m: Orleans.Runtime.SiloLifecycleSubject[100453]\n",
      "      Stage AfterRuntimeGrainServices (8100): MembershipAgent, SiloStatusListenerManager\n",
      "\u001b[40m\u001b[32minfo\u001b[39m\u001b[22m\u001b[49m: Orleans.Runtime.SiloLifecycleSubject[100453]\n",
      "      Stage ApplicationServices (10000): Orleans.Runtime.Versions.GrainVersionStore\n",
      "\u001b[40m\u001b[32minfo\u001b[39m\u001b[22m\u001b[49m: Orleans.Runtime.SiloLifecycleSubject[100453]\n",
      "      Stage BecomeActive (19999): MembershipAgent, IncomingRequestMonitor, Orleans.ClientLoggingHelper, Orleans.Runtime.Silo\n",
      "\u001b[40m\u001b[32minfo\u001b[39m\u001b[22m\u001b[49m: Orleans.Runtime.SiloLifecycleSubject[100453]\n",
      "      Stage Active (20000): ClusterHealthMonitor, Orleans.Runtime.MembershipService.LocalSiloHealthMonitor, MembershipTableCleanupAgent, GatewayConnectionListener, Orleans.Runtime.Silo\n",
      "\u001b[40m\u001b[32minfo\u001b[39m\u001b[22m\u001b[49m: Orleans.Runtime.SiloOptionsLogger[0]\n",
      "      Configuration Orleans.Configuration.ActivationCountBasedPlacementOptions: \n",
      "      ChooseOutOf: 2\n",
      "      \n",
      "\u001b[40m\u001b[32minfo\u001b[39m\u001b[22m\u001b[49m: Orleans.Runtime.SiloOptionsLogger[0]\n",
      "      Configuration Orleans.Configuration.ClusterMembershipOptions: \n",
      "      NumMissedTableIAmAliveLimit: 2\n",
      "      LivenessEnabled: True\n",
      "      ProbeTimeout: 00:00:05\n",
      "      TableRefreshTimeout: 00:01:00\n",
      "      DeathVoteExpirationTimeout: 00:02:00\n",
      "      IAmAliveTablePublishTimeout: 00:05:00\n",
      "      MaxJoinAttemptTime: 00:05:00\n",
      "      ValidateInitialConnectivity: True\n",
      "      UseLivenessGossip: True\n",
      "      NumProbedSilos: 3\n",
      "      NumMissedProbesLimit: 3\n",
      "      NumVotesForDeathDeclaration: 2\n",
      "      DefunctSiloExpiration: 7.00:00:00\n",
      "      DefunctSiloCleanupPeriod: 01:00:00\n",
      "      IsRunningAsUnitTest: False\n",
      "      LocalHealthDegradationMonitoringPeriod: 00:00:10\n",
      "      ExtendProbeTimeoutDuringDegradation: False\n",
      "      EnableIndirectProbes: False\n",
      "      \n",
      "\u001b[40m\u001b[32minfo\u001b[39m\u001b[22m\u001b[49m: Orleans.Runtime.SiloOptionsLogger[0]\n",
      "      Configuration Orleans.Configuration.ClusterOptions: \n",
      "      ClusterId: dev\n",
      "      ServiceId: dev\n",
      "      \n",
      "\u001b[40m\u001b[32minfo\u001b[39m\u001b[22m\u001b[49m: Orleans.Runtime.SiloOptionsLogger[0]\n",
      "      Configuration Orleans.Configuration.ConnectionOptions: \n",
      "      ProtocolVersion: Version1\n",
      "      ConnectionsPerEndpoint: 1\n",
      "      ConnectionRetryDelay: 00:00:01\n",
      "      OpenConnectionTimeout: 00:00:05\n",
      "      \n",
      "\u001b[40m\u001b[32minfo\u001b[39m\u001b[22m\u001b[49m: Orleans.Runtime.SiloOptionsLogger[0]\n",
      "      Configuration Orleans.Configuration.ConsistentRingOptions: \n",
      "      NumVirtualBucketsConsistentRing: 30\n",
      "      UseVirtualBucketsConsistentRing: True\n",
      "      \n",
      "\u001b[40m\u001b[32minfo\u001b[39m\u001b[22m\u001b[49m: Orleans.Runtime.SiloOptionsLogger[0]\n",
      "      Configuration Orleans.Configuration.DevelopmentClusterMembershipOptions: \n",
      "      PrimarySiloEndpoint: 127.0.0.1:11111\n",
      "      \n",
      "\u001b[40m\u001b[32minfo\u001b[39m\u001b[22m\u001b[49m: Orleans.Runtime.SiloOptionsLogger[0]\n",
      "      Configuration Orleans.Configuration.EndpointOptions: \n",
      "      AdvertisedIPAddress: 127.0.0.1\n",
      "      SiloPort: 11111\n",
      "      GatewayPort: 30000\n",
      "      SiloListeningEndpoint: \n",
      "      GatewayListeningEndpoint: \n",
      "      \n",
      "\u001b[40m\u001b[32minfo\u001b[39m\u001b[22m\u001b[49m: Orleans.Runtime.SiloOptionsLogger[0]\n",
      "      Configuration Orleans.Configuration.GrainCollectionOptions: \n",
      "      CollectionQuantum: 00:01:00\n",
      "      CollectionAge: 02:00:00\n",
      "      DeactivationTimeout: 00:00:30\n",
      "      \n",
      "\u001b[40m\u001b[32minfo\u001b[39m\u001b[22m\u001b[49m: Orleans.Runtime.SiloOptionsLogger[0]\n",
      "      Configuration Orleans.Configuration.GrainDirectoryOptions: \n",
      "      CachingStrategy: Adaptive\n",
      "      CacheSize: 1000000\n",
      "      InitialCacheTTL: 00:00:30\n",
      "      MaximumCacheTTL: 00:04:00\n",
      "      CacheTTLExtensionFactor: 2\n",
      "      LazyDeregistrationDelay: 00:01:00\n",
      "      \n",
      "\u001b[40m\u001b[32minfo\u001b[39m\u001b[22m\u001b[49m: Orleans.Runtime.SiloOptionsLogger[0]\n",
      "      Configuration Orleans.Configuration.GrainVersioningOptions: \n",
      "      DefaultCompatibilityStrategy: BackwardCompatible\n",
      "      DefaultVersionSelectorStrategy: AllCompatibleVersions\n",
      "      \n",
      "\u001b[40m\u001b[32minfo\u001b[39m\u001b[22m\u001b[49m: Orleans.Runtime.SiloOptionsLogger[0]\n",
      "      Configuration Orleans.Configuration.LoadSheddingOptions: \n",
      "      LoadSheddingEnabled: False\n",
      "      LoadSheddingLimit: 95\n",
      "      \n",
      "\u001b[40m\u001b[32minfo\u001b[39m\u001b[22m\u001b[49m: Orleans.Runtime.SiloOptionsLogger[0]\n",
      "      Configuration Orleans.Configuration.PerformanceTuningOptions: \n",
      "      DefaultConnectionLimit: 200\n",
      "      Expect100Continue: False\n",
      "      UseNagleAlgorithm: False\n",
      "      MinDotNetThreadPoolSize: 0\n",
      "      MinIOThreadPoolSize: 0\n",
      "      \n",
      "\u001b[40m\u001b[32minfo\u001b[39m\u001b[22m\u001b[49m: Orleans.Runtime.SiloOptionsLogger[0]\n",
      "      Configuration Orleans.Configuration.SchedulingOptions: \n",
      "      PerformDeadlockDetection: False\n",
      "      AllowCallChainReentrancy: True\n",
      "      MaxActiveThreads: 4\n",
      "      DelayWarningThreshold: 00:00:10\n",
      "      ActivationSchedulingQuantum: 00:00:00.1000000\n",
      "      TurnWarningLengthThreshold: 00:00:00.2000000\n",
      "      MaxPendingWorkItemsSoftLimit: 0\n",
      "      EnableWorkerThreadInjection: False\n",
      "      StoppedActivationWarningInterval: 00:01:00\n",
      "      \n",
      "\u001b[40m\u001b[32minfo\u001b[39m\u001b[22m\u001b[49m: Orleans.Runtime.SiloOptionsLogger[0]\n",
      "      Configuration Orleans.Configuration.SerializationProviderOptions: \n",
      "      FallbackSerializationProvider: \n",
      "      MaxSustainedSerializationContextCapacity: 64\n",
      "      \n",
      "\u001b[40m\u001b[32minfo\u001b[39m\u001b[22m\u001b[49m: Orleans.Runtime.SiloOptionsLogger[0]\n",
      "      Configuration Orleans.Configuration.SiloMessagingOptions: \n",
      "      SiloSenderQueues: 2\n",
      "      GatewaySenderQueues: 2\n",
      "      MaxForwardCount: 2\n",
      "      ClientDropTimeout: 00:01:00\n",
      "      ClientRegistrationRefresh: 00:05:00\n",
      "      ClientGatewayShutdownNotificationTimeout: 00:00:05\n",
      "      MaxEnqueuedRequestsSoftLimit: 0\n",
      "      MaxEnqueuedRequestsHardLimit: 0\n",
      "      MaxEnqueuedRequestsSoftLimit_StatelessWorker: 0\n",
      "      MaxEnqueuedRequestsHardLimit_StatelessWorker: 0\n",
      "      MaxRequestProcessingTime: 02:00:00\n",
      "      AssumeHomogenousSilosForTesting: False\n",
      "      DEFAULT_SHUTDOWN_REROUTE_TIMEOUT: 00:00:10\n",
      "      ShutdownRerouteTimeout: 00:00:10\n",
      "      SystemResponseTimeout: 00:00:30\n",
      "      GrainWorkloadAnalysisPeriod: 00:00:15\n",
      "      RequestProcessingWarningTime: 00:00:05\n",
      "      RequestQueueDelayWarningTime: 00:00:10\n",
      "      WaitForMessageToBeQueuedForOutboundTime: 00:00:02\n",
      "      ResponseTimeout: 00:00:30\n",
      "      ResponseTimeoutWithDebugger: 00:30:00\n",
      "      DropExpiredMessages: True\n",
      "      BufferPoolBufferSize: 4096\n",
      "      BufferPoolMaxSize: 10000\n",
      "      BufferPoolPreallocationSize: 250\n",
      "      PropagateActivityId: False\n",
      "      LargeMessageWarningThreshold: 85000\n",
      "      MaxMessageHeaderSize: 10485760\n",
      "      MaxMessageBodySize: 104857600\n",
      "      \n",
      "\u001b[40m\u001b[32minfo\u001b[39m\u001b[22m\u001b[49m: Orleans.Runtime.SiloOptionsLogger[0]\n",
      "      Configuration Orleans.Configuration.SiloOptions: \n",
      "      SiloName: Silo_b67ab\n",
      "      \n",
      "\u001b[40m\u001b[32minfo\u001b[39m\u001b[22m\u001b[49m: Orleans.Runtime.SiloOptionsLogger[0]\n",
      "      Configuration Orleans.Configuration.StatisticsOptions: \n",
      "      PerfCountersWriteInterval: 00:00:30\n",
      "      LogWriteInterval: 00:05:00\n",
      "      CollectionLevel: Info\n",
      "      \n",
      "\u001b[40m\u001b[32minfo\u001b[39m\u001b[22m\u001b[49m: Orleans.Runtime.SiloOptionsLogger[0]\n",
      "      Configuration Orleans.Configuration.TelemetryOptions: \n",
      "      \n",
      "\u001b[40m\u001b[32minfo\u001b[39m\u001b[22m\u001b[49m: Orleans.Runtime.SiloOptionsLogger[0]\n",
      "      Configuration Orleans.Configuration.TypeManagementOptions: \n",
      "      TypeMapRefreshInterval: 00:01:00\n",
      "      \n",
      "\u001b[40m\u001b[32minfo\u001b[39m\u001b[22m\u001b[49m: Orleans.Runtime.SiloLifecycleSubject[100452]\n",
      "      Orleans.Runtime.SiloOptionsLogger started in stage First (-2147483648) in 53.992 Milliseconds\n",
      "\u001b[40m\u001b[32minfo\u001b[39m\u001b[22m\u001b[49m: Orleans.Runtime.SiloLifecycleSubject[100452]\n",
      "      Starting lifecycle stage First (-2147483648) took 59.0495 Milliseconds\n",
      "\u001b[40m\u001b[32minfo\u001b[39m\u001b[22m\u001b[49m: Orleans.Runtime.SiloLifecycleSubject[100452]\n",
      "      ConnectionManager started in stage 1999 in 0.0304 Milliseconds\n",
      "\u001b[40m\u001b[32minfo\u001b[39m\u001b[22m\u001b[49m: Orleans.Runtime.SiloLifecycleSubject[100452]\n",
      "      SiloConnectionListener started in stage 1999 in 57.6607 Milliseconds\n",
      "\u001b[40m\u001b[32minfo\u001b[39m\u001b[22m\u001b[49m: Orleans.Runtime.SiloLifecycleSubject[100452]\n",
      "      GatewayConnectionListener started in stage 1999 in 23.642 Milliseconds\n",
      "\u001b[40m\u001b[32minfo\u001b[39m\u001b[22m\u001b[49m: Orleans.Runtime.SiloLifecycleSubject[100452]\n",
      "      Starting lifecycle stage 1999 took 67.2413 Milliseconds\n",
      "\u001b[40m\u001b[32minfo\u001b[39m\u001b[22m\u001b[49m: Orleans.Runtime.GrainTypeManager[101711]\n",
      "      Loaded grain type summary for 7 types: \n",
      "      Grain class Orleans.LogConsistency.Orleans.LogConsistency.LogConsistentGrain<TView> [-319513858 (0xECF49AFE)] from Orleans.Core.dll implementing interfaces: \n",
      "      Grain class Orleans.Runtime.Development.Orleans.Runtime.Development.DevelopmentLeaseProviderGrain [940524075 (0x380F422B)] from Orleans.Runtime.dll implementing interfaces: Orleans.Runtime.Development.IDevelopmentLeaseProviderGrain [-1234611069 (0xB6695483)]\n",
      "      Grain class Orleans.Runtime.Management.Orleans.Runtime.Management.ManagementGrain [1954798034 (0x7483D9D2)] from Orleans.Runtime.dll implementing interfaces: Orleans.Runtime.IManagementGrain [-1734666656 (0x989B1660)]\n",
      "      Grain class Orleans.Runtime.ReminderService.Orleans.Runtime.ReminderService.GrainBasedReminderTable [-55315191 (0xFCB3F509)] from Orleans.Runtime.dll implementing interfaces: Orleans.IReminderTableGrain [-1135060418 (0xBC585A3E)]\n",
      "      Grain class Orleans.Runtime.Versions.Orleans.Runtime.Versions.VersionStoreGrain [331003096 (0x13BAB4D8)] from Orleans.Runtime.dll implementing interfaces: Orleans.Runtime.Versions.IVersionStoreGrain [-297600501 (0xEE42FA0B)], Orleans.IGrainWithStringKey [-1277021679 (0xB3E23211)]\n",
      "      Grain class Orleans.Streams.Orleans.Streams.PubSubRendezvousGrain [1903070868 (0x716E8E94)] from Orleans.Runtime.dll implementing interfaces: Orleans.Streams.IPubSubRendezvousGrain [1746702088 (0x681C8F08)]\n",
      "      Grain class RpcDemo.Grains.Greeting.RpcDemo.Grains.Greeting.HelloGrain [-500675990 (0xE2284A6A)] from RpcDemo.Grains.Greeting.dll implementing interfaces: RpcDemo.Interfaces.Hello.IHelloGrain [-552397666 (0xDF13149E)]\n",
      "      \n",
      "\u001b[40m\u001b[32minfo\u001b[39m\u001b[22m\u001b[49m: Orleans.Runtime.InsideRuntimeClient[100452]\n",
      "      Start InsideRuntimeClient took 27 Milliseconds\n",
      "\u001b[40m\u001b[32minfo\u001b[39m\u001b[22m\u001b[49m: Orleans.Runtime.SiloLifecycleSubject[100452]\n",
      "      Orleans.Runtime.InsideRuntimeClient started in stage RuntimeInitialize (2000) in 28.7518 Milliseconds\n",
      "\u001b[40m\u001b[32minfo\u001b[39m\u001b[22m\u001b[49m: Orleans.Runtime.SiloLifecycleSubject[100452]\n",
      "      SiloStatusListenerManager started in stage RuntimeInitialize (2000) in 0.0608 Milliseconds\n",
      "\u001b[40m\u001b[32minfo\u001b[39m\u001b[22m\u001b[49m: Orleans.Runtime.SiloLifecycleSubject[100452]\n",
      "      ClusterMembershipService started in stage RuntimeInitialize (2000) in 0.1034 Milliseconds\n",
      "\u001b[40m\u001b[32minfo\u001b[39m\u001b[22m\u001b[49m: Orleans.Runtime.SiloLifecycleSubject[100452]\n",
      "      SiloConnectionMaintainer started in stage RuntimeInitialize (2000) in 5.1601 Milliseconds\n",
      "\u001b[40m\u001b[32minfo\u001b[39m\u001b[22m\u001b[49m: Orleans.Runtime.Silo[100401]\n",
      "      Silo Start()\n",
      "\u001b[40m\u001b[32minfo\u001b[39m\u001b[22m\u001b[49m: Orleans.Runtime.Silo[100436]\n",
      "      Configured .NET ServicePointManager to Expect100Continue=False, DefaultConnectionLimit=200, UseNagleAlgorithm=False to improve Azure storage performance.\n",
      "\u001b[40m\u001b[32minfo\u001b[39m\u001b[22m\u001b[49m: Orleans.Runtime.Silo[100452]\n",
      "      ConfigureThreadPoolAndServicePointSettings took 1 Milliseconds to finish\n",
      "\u001b[40m\u001b[32minfo\u001b[39m\u001b[22m\u001b[49m: Orleans.Runtime.SiloLifecycleSubject[100452]\n",
      "      Orleans.Runtime.Silo started in stage RuntimeInitialize (2000) in 4.4748 Milliseconds\n",
      "\u001b[40m\u001b[32minfo\u001b[39m\u001b[22m\u001b[49m: Orleans.Runtime.SiloLifecycleSubject[100452]\n",
      "      Starting lifecycle stage RuntimeInitialize (2000) took 38.7328 Milliseconds\n",
      "\u001b[40m\u001b[32minfo\u001b[39m\u001b[22m\u001b[49m: Orleans.Runtime.SiloLifecycleSubject[100452]\n",
      "      MembershipAgent started in stage 2001 in 0.4288 Milliseconds\n",
      "\u001b[40m\u001b[32minfo\u001b[39m\u001b[22m\u001b[49m: Orleans.Runtime.SiloLifecycleSubject[100452]\n",
      "      Starting lifecycle stage 2001 took 0.4683 Milliseconds\n",
      "\u001b[40m\u001b[32minfo\u001b[39m\u001b[22m\u001b[49m: Orleans.Runtime.Silo[100452]\n",
      "      Start Message center took 0 Milliseconds to finish\n",
      "\u001b[40m\u001b[32minfo\u001b[39m\u001b[22m\u001b[49m: Orleans.Runtime.GrainDirectory.LocalGrainDirectory[0]\n",
      "      Start\n",
      "\u001b[40m\u001b[32minfo\u001b[39m\u001b[22m\u001b[49m: Runtime.GrainDirectory.AdaptiveDirectoryCacheMaintainer[0]\n",
      "      Starting AsyncAgent Runtime.GrainDirectory.AdaptiveDirectoryCacheMaintainer on managed thread 19\n",
      "\u001b[40m\u001b[32minfo\u001b[39m\u001b[22m\u001b[49m: Orleans.Runtime.Silo[100452]\n",
      "      Start local grain directory took 4 Milliseconds to finish\n",
      "\u001b[40m\u001b[32minfo\u001b[39m\u001b[22m\u001b[49m: Orleans.Runtime.Silo[100452]\n",
      "      Init implicit stream subscribe table took 12 Milliseconds to finish\n",
      "\u001b[40m\u001b[32minfo\u001b[39m\u001b[22m\u001b[49m: Orleans.Runtime.Silo[100452]\n",
      "      Create system targets and inject dependencies took 88 Milliseconds to finish\n",
      "\u001b[40m\u001b[32minfo\u001b[39m\u001b[22m\u001b[49m: Orleans.Runtime.SiloLifecycleSubject[100452]\n",
      "      Orleans.Runtime.Silo started in stage RuntimeServices (4000) in 108.4855 Milliseconds\n",
      "\u001b[40m\u001b[32minfo\u001b[39m\u001b[22m\u001b[49m: Orleans.Runtime.SiloLifecycleSubject[100452]\n",
      "      Starting lifecycle stage RuntimeServices (4000) took 108.6678 Milliseconds\n",
      "\u001b[40m\u001b[32minfo\u001b[39m\u001b[22m\u001b[49m: Orleans.Runtime.SiloLifecycleSubject[100452]\n",
      "      HostedClient started in stage RuntimeGrainServices (8000) in 2.9923 Milliseconds\n",
      "\u001b[40m\u001b[32minfo\u001b[39m\u001b[22m\u001b[49m: Orleans.Runtime.MembershipService.MembershipTableManager[100603]\n",
      "      MembershipOracle starting on host vm-ubuntu2204 with SiloAddress S127.0.0.1:11111:401534855 at 2022-09-22 09:27:36.053 GMT\n",
      "\u001b[40m\u001b[32minfo\u001b[39m\u001b[22m\u001b[49m: Orleans.Runtime.MembershipService.SystemTargetBasedMembershipTable[100635]\n",
      "      Creating in-memory membership table\n",
      "\u001b[40m\u001b[32minfo\u001b[39m\u001b[22m\u001b[49m: Orleans.Runtime.MembershipService.MembershipTableSystemTarget[100637]\n",
      "      GrainBasedMembershipTable Activated.\n",
      "\u001b[40m\u001b[32minfo\u001b[39m\u001b[22m\u001b[49m: Orleans.Runtime.Silo[100452]\n",
      "      Init grain services took 12 Milliseconds to finish\n",
      "\u001b[40m\u001b[32minfo\u001b[39m\u001b[22m\u001b[49m: Orleans.Runtime.Silo[100452]\n",
      "      Init type manager took 83 Milliseconds to finish\n",
      "\u001b[40m\u001b[32minfo\u001b[39m\u001b[22m\u001b[49m: Orleans.Runtime.CounterStatistic[100702]\n",
      "      Starting Windows perf counter stats collection with frequency=00:00:30\n",
      "\u001b[40m\u001b[32minfo\u001b[39m\u001b[22m\u001b[49m: Orleans.Runtime.Silo[100452]\n",
      "      Start silo statistics took 28 Milliseconds to finish\n",
      "\u001b[40m\u001b[32minfo\u001b[39m\u001b[22m\u001b[49m: Orleans.Runtime.DeploymentLoadPublisher[0]\n",
      "      Starting DeploymentLoadPublisher.\n",
      "\u001b[40m\u001b[32minfo\u001b[39m\u001b[22m\u001b[49m: Orleans.Runtime.DeploymentLoadPublisher[0]\n",
      "      Started DeploymentLoadPublisher.\n",
      "\u001b[40m\u001b[32minfo\u001b[39m\u001b[22m\u001b[49m: Orleans.Runtime.Silo[100452]\n",
      "      Start deployment load collector took 68 Milliseconds to finish\n",
      "\u001b[40m\u001b[32minfo\u001b[39m\u001b[22m\u001b[49m: Orleans.Runtime.Watchdog[0]\n",
      "      Starting Silo Watchdog.\n",
      "\u001b[40m\u001b[32minfo\u001b[39m\u001b[22m\u001b[49m: Orleans.Runtime.SiloLifecycleSubject[100452]\n",
      "      Orleans.Runtime.Silo started in stage RuntimeGrainServices (8000) in 232.7077 Milliseconds\n",
      "\u001b[40m\u001b[32minfo\u001b[39m\u001b[22m\u001b[49m: Orleans.Runtime.MembershipService.SystemTargetBasedMembershipTable[100631]\n",
      "      -Connected to membership table provider.\n",
      "\u001b[40m\u001b[32minfo\u001b[39m\u001b[22m\u001b[49m: Orleans.Runtime.MembershipService.MembershipTableManager[100645]\n",
      "      ProcessTableUpdate (called from Refresh) membership table: 0 silos, 0 are Active, 0 are Dead, Version=<0, 0>. All silos: []\n",
      "\u001b[40m\u001b[32minfo\u001b[39m\u001b[22m\u001b[49m: Orleans.Runtime.SiloLifecycleSubject[100452]\n",
      "      MembershipTableManager started in stage RuntimeGrainServices (8000) in 366.8349 Milliseconds\n",
      "\u001b[40m\u001b[32minfo\u001b[39m\u001b[22m\u001b[49m: Orleans.Runtime.SiloLifecycleSubject[100452]\n",
      "      Starting lifecycle stage RuntimeGrainServices (8000) took 367.0046 Milliseconds\n",
      "\u001b[40m\u001b[32minfo\u001b[39m\u001b[22m\u001b[49m: Orleans.Runtime.SiloLifecycleSubject[100452]\n",
      "      SiloStatusListenerManager started in stage AfterRuntimeGrainServices (8100) in 0.0995 Milliseconds\n",
      "\u001b[40m\u001b[32minfo\u001b[39m\u001b[22m\u001b[49m: Orleans.Runtime.MembershipService.MembershipAgent[100663]\n",
      "      -Joining\n",
      "\u001b[40m\u001b[32minfo\u001b[39m\u001b[22m\u001b[49m: Orleans.Runtime.MembershipService.MembershipTableManager[100645]\n",
      "      ProcessTableUpdate (called from TryUpdateMyStatusGlobalOnce) membership table: 1 silos, 0 are Active, 0 are Dead, 1 are Joining, Version=<1, 0>. All silos: [SiloAddress=S127.0.0.1:11111:401534855 SiloName=Silo_b67ab Status=Joining]\n",
      "\u001b[40m\u001b[32minfo\u001b[39m\u001b[22m\u001b[49m: Orleans.Runtime.SiloLifecycleSubject[100452]\n",
      "      MembershipAgent started in stage AfterRuntimeGrainServices (8100) in 116.0317 Milliseconds\n",
      "\u001b[40m\u001b[32minfo\u001b[39m\u001b[22m\u001b[49m: Orleans.Runtime.SiloLifecycleSubject[100452]\n",
      "      Starting lifecycle stage AfterRuntimeGrainServices (8100) took 116.7346 Milliseconds\n",
      "\u001b[40m\u001b[32minfo\u001b[39m\u001b[22m\u001b[49m: Orleans.Runtime.SiloLifecycleSubject[100452]\n",
      "      Orleans.Runtime.Versions.GrainVersionStore started in stage ApplicationServices (10000) in 0.1034 Milliseconds\n",
      "\u001b[40m\u001b[32minfo\u001b[39m\u001b[22m\u001b[49m: Orleans.Runtime.SiloLifecycleSubject[100452]\n",
      "      Starting lifecycle stage ApplicationServices (10000) took 0.121 Milliseconds\n",
      "\u001b[40m\u001b[32minfo\u001b[39m\u001b[22m\u001b[49m: Orleans.Runtime.SiloLifecycleSubject[100452]\n",
      "      IncomingRequestMonitor started in stage BecomeActive (19999) in 0.0527 Milliseconds\n",
      "\u001b[40m\u001b[32minfo\u001b[39m\u001b[22m\u001b[49m: Orleans.Runtime.SiloLifecycleSubject[100452]\n",
      "      Orleans.ClientLoggingHelper started in stage BecomeActive (19999) in 0.1195 Milliseconds\n",
      "\u001b[40m\u001b[32minfo\u001b[39m\u001b[22m\u001b[49m: Runtime.Messaging.GatewayClientCleanupAgent[0]\n",
      "      Starting AsyncAgent Runtime.Messaging.GatewayClientCleanupAgent on managed thread 19\n",
      "\u001b[40m\u001b[32minfo\u001b[39m\u001b[22m\u001b[49m: Orleans.Runtime.Silo[100452]\n",
      "      Start gateway took 1 Milliseconds to finish\n",
      "\u001b[40m\u001b[32minfo\u001b[39m\u001b[22m\u001b[49m: Orleans.Runtime.SiloLifecycleSubject[100452]\n",
      "      Orleans.Runtime.Silo started in stage BecomeActive (19999) in 1.6402 Milliseconds\n",
      "\u001b[40m\u001b[32minfo\u001b[39m\u001b[22m\u001b[49m: Orleans.Runtime.MembershipService.MembershipAgent[100604]\n",
      "      -BecomeActive\n",
      "\u001b[40m\u001b[32minfo\u001b[39m\u001b[22m\u001b[49m: Orleans.Runtime.MembershipService.MembershipTableManager[100645]\n",
      "      ProcessTableUpdate (called from TryUpdateMyStatusGlobalOnce) membership table: 1 silos, 1 are Active, 0 are Dead, Version=<2, 2>. All silos: [SiloAddress=S127.0.0.1:11111:401534855 SiloName=Silo_b67ab Status=Active]\n",
      "\u001b[40m\u001b[32minfo\u001b[39m\u001b[22m\u001b[49m: Orleans.Runtime.MembershipService.MembershipAgent[100605]\n",
      "      -Finished BecomeActive.\n",
      "\u001b[40m\u001b[32minfo\u001b[39m\u001b[22m\u001b[49m: Orleans.Runtime.SiloLifecycleSubject[100452]\n",
      "      MembershipAgent started in stage BecomeActive (19999) in 78.8945 Milliseconds\n",
      "\u001b[40m\u001b[32minfo\u001b[39m\u001b[22m\u001b[49m: Orleans.Runtime.SiloLifecycleSubject[100452]\n",
      "      Starting lifecycle stage BecomeActive (19999) took 78.9372 Milliseconds\n",
      "\u001b[40m\u001b[32minfo\u001b[39m\u001b[22m\u001b[49m: Orleans.Runtime.SiloLifecycleSubject[100452]\n",
      "      ClusterHealthMonitor started in stage Active (20000) in 0.1205 Milliseconds\n",
      "\u001b[40m\u001b[32minfo\u001b[39m\u001b[22m\u001b[49m: Orleans.Runtime.SiloLifecycleSubject[100452]\n",
      "      Orleans.Runtime.MembershipService.LocalSiloHealthMonitor started in stage Active (20000) in 0.0989 Milliseconds\n",
      "\u001b[40m\u001b[32minfo\u001b[39m\u001b[22m\u001b[49m: Orleans.Runtime.SiloLifecycleSubject[100452]\n",
      "      MembershipTableCleanupAgent started in stage Active (20000) in 0.0894 Milliseconds\n",
      "\u001b[40m\u001b[32minfo\u001b[39m\u001b[22m\u001b[49m: Orleans.Runtime.SiloLifecycleSubject[100452]\n",
      "      Orleans.Runtime.Silo started in stage Active (20000) in 4.9847 Milliseconds\n",
      "\u001b[40m\u001b[32minfo\u001b[39m\u001b[22m\u001b[49m: Orleans.Runtime.SiloLifecycleSubject[100452]\n",
      "      GatewayConnectionListener started in stage Active (20000) in 40.4025 Milliseconds\n",
      "\u001b[40m\u001b[32minfo\u001b[39m\u001b[22m\u001b[49m: Orleans.Runtime.SiloLifecycleSubject[100452]\n",
      "      Starting lifecycle stage Active (20000) took 40.9162 Milliseconds\n",
      "\u001b[40m\u001b[32minfo\u001b[39m\u001b[22m\u001b[49m: Orleans.Hosting.SiloHostedService[0]\n",
      "      Orleans Silo started.\n",
      "\u001b[40m\u001b[32minfo\u001b[39m\u001b[22m\u001b[49m: Microsoft.Hosting.Lifetime[0]\n",
      "      Application started. Press Ctrl+C to shut down.\n",
      "\u001b[40m\u001b[32minfo\u001b[39m\u001b[22m\u001b[49m: Microsoft.Hosting.Lifetime[0]\n",
      "      Hosting environment: Production\n",
      "\u001b[40m\u001b[32minfo\u001b[39m\u001b[22m\u001b[49m: Microsoft.Hosting.Lifetime[0]\n",
      "      Content root path: /home/vmusr/Documents/repo/OrleansRpcDemo/notebooks\n"
     ]
    }
   ],
   "source": [
    "var host = hostBuilder.Build();\n",
    "await host.StartAsync();"
   ]
  },
  {
   "cell_type": "markdown",
   "metadata": {},
   "source": [
    "Craft client builder code:"
   ]
  },
  {
   "cell_type": "code",
   "execution_count": null,
   "metadata": {
    "dotnet_interactive": {
     "language": "csharp"
    },
    "vscode": {
     "languageId": "dotnet-interactive.csharp"
    }
   },
   "outputs": [],
   "source": [
    "var clientBuilder = new ClientBuilder().UseLocalhostClustering();\n",
    "clientBuilder.ConfigureApplicationParts(parts=>parts.AddApplicationPart(typeof(IHelloGrain).Assembly));"
   ]
  },
  {
   "cell_type": "code",
   "execution_count": null,
   "metadata": {
    "dotnet_interactive": {
     "language": "csharp"
    },
    "vscode": {
     "languageId": "dotnet-interactive.csharp"
    }
   },
   "outputs": [],
   "source": [
    "var client = clientBuilder.Build();"
   ]
  },
  {
   "cell_type": "markdown",
   "metadata": {},
   "source": [
    "Connect to Silo:"
   ]
  },
  {
   "cell_type": "code",
   "execution_count": null,
   "metadata": {
    "dotnet_interactive": {
     "language": "csharp"
    },
    "vscode": {
     "languageId": "dotnet-interactive.csharp"
    }
   },
   "outputs": [],
   "source": [
    "await client.Connect();"
   ]
  },
  {
   "cell_type": "markdown",
   "metadata": {},
   "source": [
    "Call `GetGrain<IHelloGrain>()` to get RPC proxy:"
   ]
  },
  {
   "cell_type": "code",
   "execution_count": null,
   "metadata": {
    "dotnet_interactive": {
     "language": "csharp"
    },
    "vscode": {
     "languageId": "dotnet-interactive.csharp"
    }
   },
   "outputs": [],
   "source": [
    "var helloGrainRpc = client.GetGrain<IHelloGrain>(0);"
   ]
  },
  {
   "cell_type": "markdown",
   "metadata": {},
   "source": [
    "Call RPC method:"
   ]
  },
  {
   "cell_type": "code",
   "execution_count": null,
   "metadata": {
    "dotnet_interactive": {
     "language": "csharp"
    },
    "vscode": {
     "languageId": "dotnet-interactive.csharp"
    }
   },
   "outputs": [
    {
     "data": {
      "text/plain": [
       "Hello Orleans!"
      ]
     },
     "metadata": {},
     "output_type": "display_data"
    }
   ],
   "source": [
    "var greeting = await helloGrainRpc.SayHello(\"Orleans\");\n",
    "display(greeting);"
   ]
  },
  {
   "cell_type": "markdown",
   "metadata": {},
   "source": [
    "Remember to call `Close()` when client-side don't need to use anymore."
   ]
  },
  {
   "cell_type": "code",
   "execution_count": null,
   "metadata": {
    "dotnet_interactive": {
     "language": "csharp"
    },
    "vscode": {
     "languageId": "dotnet-interactive.csharp"
    }
   },
   "outputs": [],
   "source": [
    "await client.Close();"
   ]
  },
  {
   "cell_type": "markdown",
   "metadata": {},
   "source": [
    "Shutdown server by calling `StopAsync()`:"
   ]
  },
  {
   "cell_type": "code",
   "execution_count": null,
   "metadata": {
    "dotnet_interactive": {
     "language": "csharp"
    },
    "vscode": {
     "languageId": "dotnet-interactive.csharp"
    }
   },
   "outputs": [],
   "source": [
    "await host.StopAsync().ConfigureAwait(false);"
   ]
  }
 ],
 "metadata": {
  "kernelspec": {
   "display_name": ".NET (C#)",
   "language": "C#",
   "name": ".net-csharp"
  },
  "language_info": {
   "name": "C#"
  }
 },
 "nbformat": 4,
 "nbformat_minor": 2
}
